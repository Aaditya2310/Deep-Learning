{
  "nbformat": 4,
  "nbformat_minor": 0,
  "metadata": {
    "colab": {
      "provenance": []
    },
    "kernelspec": {
      "name": "python3",
      "display_name": "Python 3"
    },
    "language_info": {
      "name": "python"
    }
  },
  "cells": [
    {
      "cell_type": "code",
      "source": [
        "import numpy as np\n",
        "import pandas as pd"
      ],
      "metadata": {
        "id": "2nFP3lItWMYg"
      },
      "execution_count": null,
      "outputs": []
    },
    {
      "cell_type": "code",
      "source": [
        "x1 = [0, 0, 1, 1]\n",
        "x2 = [0, 1, 0, 1]\n",
        "y = [0, 1, 1, 0]\n",
        "w11 = 0.5\n",
        "w12 = 1\n",
        "w21 = 0.5\n",
        "w22 = 1\n",
        "b = -1\n"
      ],
      "metadata": {
        "id": "gwABoPKWV0Zw"
      },
      "execution_count": null,
      "outputs": []
    },
    {
      "cell_type": "code",
      "source": [
        "def PERCEPTRON(x1, x2, w11, w21):\n",
        "  Y = []\n",
        "  for i in range(len(x1)):\n",
        "    temp = (x1[i] * w1) + (x2[i] * w2) + b\n",
        "    if temp < 0:\n",
        "          Y.append(0)\n",
        "    else:\n",
        "          Y.append(1)\n",
        "  return Y\n",
        "\n"
      ],
      "metadata": {
        "id": "ZXSfpCrMYdPX"
      },
      "execution_count": null,
      "outputs": []
    },
    {
      "cell_type": "code",
      "source": [
        "def PERCEPTRON(x1, x2, w11, w21):\n",
        "  Y = []\n",
        "  for i in range(len(x1)):\n",
        "    temp = (x1[i] * w11) + (x2[i] * w21) + b # Use w11 and w21 instead of w1 and w2\n",
        "    if temp < 0:\n",
        "          Y.append(0)\n",
        "    else:\n",
        "          Y.append(1)\n",
        "  return Y\n"
      ],
      "metadata": {
        "id": "MBCMjXrBa8nm"
      },
      "execution_count": null,
      "outputs": []
    },
    {
      "cell_type": "code",
      "source": [
        "y1 = AND(x1, x2)\n",
        "print(y1)"
      ],
      "metadata": {
        "colab": {
          "base_uri": "https://localhost:8080/"
        },
        "id": "PiIoWXqfbOtu",
        "outputId": "91b9a451-656c-4a02-e82a-4478b272826c"
      },
      "execution_count": null,
      "outputs": [
        {
          "output_type": "stream",
          "name": "stdout",
          "text": [
            "[0, 0, 0, 1]\n"
          ]
        }
      ]
    },
    {
      "cell_type": "code",
      "source": [
        "def NOT(y1):\n",
        "  Y = []\n",
        "  for i in range(len(x1)):\n",
        "        if(y1[i]==0):\n",
        "          Y.append(1)\n",
        "        else:\n",
        "          Y.append(0)\n",
        "  return Y"
      ],
      "metadata": {
        "id": "h2EkyERNXQPI"
      },
      "execution_count": null,
      "outputs": []
    },
    {
      "cell_type": "code",
      "source": [
        "y2 = NOT(y1)\n",
        "print(y2)"
      ],
      "metadata": {
        "colab": {
          "base_uri": "https://localhost:8080/"
        },
        "id": "_Y-vSp63ei_G",
        "outputId": "f1b3d371-7b46-4dfa-f192-66a77ca41b82"
      },
      "execution_count": null,
      "outputs": [
        {
          "output_type": "stream",
          "name": "stdout",
          "text": [
            "[1, 1, 1, 0]\n"
          ]
        }
      ]
    },
    {
      "cell_type": "code",
      "source": [
        "def OR(x1, x2):\n",
        "  return PERCEPTRON(x1, x2, w12, w22)"
      ],
      "metadata": {
        "id": "wIudx7fddFgv"
      },
      "execution_count": null,
      "outputs": []
    },
    {
      "cell_type": "code",
      "source": [
        "y3 = OR(x1, x2)\n",
        "print(y3)"
      ],
      "metadata": {
        "colab": {
          "base_uri": "https://localhost:8080/"
        },
        "id": "DgA2rpp9dRb-",
        "outputId": "c27549b8-3f7b-488e-cd2e-bf50e911c66e"
      },
      "execution_count": null,
      "outputs": [
        {
          "output_type": "stream",
          "name": "stdout",
          "text": [
            "[0, 1, 1, 1]\n"
          ]
        }
      ]
    },
    {
      "cell_type": "code",
      "source": [
        "y4 = AND(y2, y3)\n",
        "print(y4)"
      ],
      "metadata": {
        "colab": {
          "base_uri": "https://localhost:8080/"
        },
        "id": "BOokcUjBdVJ-",
        "outputId": "721457bd-94e8-46e0-c858-512dac9424fe"
      },
      "execution_count": null,
      "outputs": [
        {
          "output_type": "stream",
          "name": "stdout",
          "text": [
            "[0, 1, 1, 0]\n"
          ]
        }
      ]
    }
  ]
}